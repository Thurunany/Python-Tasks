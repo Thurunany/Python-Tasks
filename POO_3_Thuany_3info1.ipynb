{
  "nbformat": 4,
  "nbformat_minor": 0,
  "metadata": {
    "colab": {
      "name": "POO 3 - Thuany 3info1.ipynb",
      "provenance": [],
      "authorship_tag": "ABX9TyObaMODp2nh+jBCVhq1/6tJ",
      "include_colab_link": true
    },
    "kernelspec": {
      "name": "python3",
      "display_name": "Python 3"
    },
    "language_info": {
      "name": "python"
    }
  },
  "cells": [
    {
      "cell_type": "markdown",
      "metadata": {
        "id": "view-in-github",
        "colab_type": "text"
      },
      "source": [
        "<a href=\"https://colab.research.google.com/github/Thurunany/2021_EAD/blob/main/POO_3_Thuany_3info1.ipynb\" target=\"_parent\"><img src=\"https://colab.research.google.com/assets/colab-badge.svg\" alt=\"Open In Colab\"/></a>"
      ]
    },
    {
      "cell_type": "code",
      "metadata": {
        "id": "iteBO-r0SDD2"
      },
      "source": [
        "class Usuario:\n",
        "# Propriedade\n",
        "primeiroNome = \"\"\n",
        "# Metodo que diz Olá ao usuário primeiroNome.\n",
        "def hello(self):\n",
        "  print(\"Olá, \" , self.primeiroNome)"
      ],
      "execution_count": null,
      "outputs": []
    },
    {
      "cell_type": "markdown",
      "metadata": {
        "id": "-4UPZkRlSAjj"
      },
      "source": [
        "2. Adicione um método chamado registrar() à classe. Ele deve imprimir a string\n",
        "“>> registrado”."
      ]
    },
    {
      "cell_type": "code",
      "metadata": {
        "id": "ht8vygy4Revx"
      },
      "source": [
        "def registrar(self):\n",
        "  print(\">> registrado\")"
      ],
      "execution_count": null,
      "outputs": []
    },
    {
      "cell_type": "markdown",
      "metadata": {
        "id": "lyNXVMnRSQgp"
      },
      "source": [
        "3. Adicione um método chamado mail() à classe. Ele deve imprimir a string\n",
        "\">> e-mail enviado\"."
      ]
    },
    {
      "cell_type": "code",
      "metadata": {
        "id": "aZjOeHgsSTIs"
      },
      "source": [
        "def mail(self):\n",
        "  print(\">> e-mail enviado\")"
      ],
      "execution_count": null,
      "outputs": []
    },
    {
      "cell_type": "markdown",
      "metadata": {
        "id": "4lOk-4OnSdZ4"
      },
      "source": [
        "4. Adicione return self ao método hello() para que ele possa ser encadeado em qualquer outro\n",
        "método na classe."
      ]
    },
    {
      "cell_type": "code",
      "metadata": {
        "id": "vpaaaM6MSfN3"
      },
      "source": [
        "def hello(self):\n",
        "  print(\"Olá, \", self.primeiroNome)\n",
        "  return self"
      ],
      "execution_count": null,
      "outputs": []
    },
    {
      "cell_type": "markdown",
      "metadata": {
        "id": "C5Irmsw_SrXT"
      },
      "source": [
        "5. Adicione return self ao método registrar() para que ele também possa ser encadeado."
      ]
    },
    {
      "cell_type": "code",
      "metadata": {
        "id": "oQUJbtNTSvhc"
      },
      "source": [
        "def registrar(self):\n",
        "  print(\">> registrado\")\n",
        "  return self\n",
        "\n",
        "def mail(self):\n",
        "  print(\">> e-mail enviado\")\n",
        "  return self"
      ],
      "execution_count": null,
      "outputs": []
    },
    {
      "cell_type": "markdown",
      "metadata": {
        "id": "fjbXm7kHS3PC"
      },
      "source": [
        "6. Crie um objeto chamado usuario1 com o primeiro nome de \"Jane\".\n",
        "Para este objeto, encadeie os métodos na seguinte ordem: hello.registrar.mail"
      ]
    },
    {
      "cell_type": "code",
      "metadata": {
        "id": "1z_Fbx2uS59D"
      },
      "source": [
        "usuario1 = Usuario()\n",
        "usuario1.primeiroNome = \"Jane\"\n",
        "\n",
        "primeiroNome = usuario1.hello().registrar().mail()\n",
        "print(usuario1)"
      ],
      "execution_count": null,
      "outputs": []
    },
    {
      "cell_type": "markdown",
      "metadata": {
        "id": "1GBfDFvwTL69"
      },
      "source": [
        "Código Final:"
      ]
    },
    {
      "cell_type": "code",
      "metadata": {
        "colab": {
          "base_uri": "https://localhost:8080/"
        },
        "id": "qplRxoeETOwy",
        "outputId": "e30a7cfd-e0ec-4dc1-a3f4-c08445bffd32"
      },
      "source": [
        "class Usuario:\n",
        "# Propriedade\n",
        "  primeiroNome = \"\"\n",
        "# Metodo que diz Olá ao usuário primeiroNome.\n",
        "  def hello(self):\n",
        "    print(\"Olá, \" , self.primeiroNome)\n",
        "    return self\n",
        "\n",
        "  def registrar(self):\n",
        "    print(\">> registrado\")\n",
        "    return self\n",
        "\n",
        "  def mail(self):\n",
        "    print(\">> e-mail enviado\")\n",
        "    return self\n",
        "\n",
        "usuario1 = Usuario()\n",
        "usuario1.primeiroNome = \"Jane\"\n",
        "\n",
        "primeiroNome = usuario1.hello().registrar().mail()"
      ],
      "execution_count": 6,
      "outputs": [
        {
          "output_type": "stream",
          "text": [
            "Olá,  Jane\n",
            ">> registrado\n",
            ">> e-mail enviado\n"
          ],
          "name": "stdout"
        }
      ]
    }
  ]
}