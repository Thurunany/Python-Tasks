{
  "nbformat": 4,
  "nbformat_minor": 0,
  "metadata": {
    "colab": {
      "name": "Python - Arrays (Listas) - Thuany 3info1.ipynb",
      "provenance": [],
      "collapsed_sections": [],
      "authorship_tag": "ABX9TyOqDG0zQs+TDVjcG9WgU8ft",
      "include_colab_link": true
    },
    "kernelspec": {
      "name": "python3",
      "display_name": "Python 3"
    },
    "language_info": {
      "name": "python"
    }
  },
  "cells": [
    {
      "cell_type": "markdown",
      "metadata": {
        "id": "view-in-github",
        "colab_type": "text"
      },
      "source": [
        "<a href=\"https://colab.research.google.com/github/Thurunany/2021_EAD/blob/main/Python_Arrays_(Listas)_Thuany_3info1.ipynb\" target=\"_parent\"><img src=\"https://colab.research.google.com/assets/colab-badge.svg\" alt=\"Open In Colab\"/></a>"
      ]
    },
    {
      "cell_type": "markdown",
      "metadata": {
        "id": "-t1pzCevo1Fz"
      },
      "source": [
        "1) Inicializar um vetor de inteiros com números de 0 a 99."
      ]
    },
    {
      "cell_type": "code",
      "metadata": {
        "colab": {
          "base_uri": "https://localhost:8080/"
        },
        "id": "qQP4Y9X6wR6H",
        "outputId": "6cc3d604-59e8-4959-b866-3d8241311ea6"
      },
      "source": [
        "vetor = [numeros for numeros in range(100)]\n",
        "print(vetor)"
      ],
      "execution_count": null,
      "outputs": [
        {
          "output_type": "stream",
          "text": [
            "[0, 1, 2, 3, 4, 5, 6, 7, 8, 9, 10, 11, 12, 13, 14, 15, 16, 17, 18, 19, 20, 21, 22, 23, 24, 25, 26, 27, 28, 29, 30, 31, 32, 33, 34, 35, 36, 37, 38, 39, 40, 41, 42, 43, 44, 45, 46, 47, 48, 49, 50, 51, 52, 53, 54, 55, 56, 57, 58, 59, 60, 61, 62, 63, 64, 65, 66, 67, 68, 69, 70, 71, 72, 73, 74, 75, 76, 77, 78, 79, 80, 81, 82, 83, 84, 85, 86, 87, 88, 89, 90, 91, 92, 93, 94, 95, 96, 97, 98, 99]\n"
          ],
          "name": "stdout"
        }
      ]
    },
    {
      "cell_type": "markdown",
      "metadata": {
        "id": "tsUJU9dUuxwJ"
      },
      "source": [
        "2) Escreva um algoritmo que leia um conjunto de 10 notas, armazene-as em uma variável\n",
        "composta chamada NOTA e calcule e imprima a sua média.\n"
      ]
    },
    {
      "cell_type": "code",
      "metadata": {
        "colab": {
          "base_uri": "https://localhost:8080/"
        },
        "id": "Eae-vdLnu85K",
        "outputId": "b382901f-13ff-4afb-e3f6-d29d52ae0264"
      },
      "source": [
        "nota = []\n",
        "media = 0\n",
        "for i in range (10):\n",
        "  nota.append(float(input(\"Qual é a nota do aluno [%i]?: \" % i)))\n",
        "  media = sum(nota) / len(nota)\n",
        "print(\"\\n Notas: \\n\", nota, \"\\n Media: \\n\", \"%.2f\" % media)\n"
      ],
      "execution_count": null,
      "outputs": [
        {
          "output_type": "stream",
          "text": [
            "Qual é a nota do aluno [0]?: 9.8\n",
            "Qual é a nota do aluno [1]?: 5.6\n",
            "Qual é a nota do aluno [2]?: 5.8\n",
            "Qual é a nota do aluno [3]?: 7.1\n",
            "Qual é a nota do aluno [4]?: 3.4\n",
            "Qual é a nota do aluno [5]?: 6.0\n",
            "Qual é a nota do aluno [6]?: 7.7\n",
            "Qual é a nota do aluno [7]?: 9.8\n",
            "Qual é a nota do aluno [8]?: 8.8\n",
            "Qual é a nota do aluno [9]?: 10\n",
            "\n",
            " Notas: \n",
            " [9.8, 5.6, 5.8, 7.1, 3.4, 6.0, 7.7, 9.8, 8.8, 10.0] \n",
            " Media: \n",
            " 7.40\n"
          ],
          "name": "stdout"
        }
      ]
    },
    {
      "cell_type": "markdown",
      "metadata": {
        "id": "68zQEaVQyEQb"
      },
      "source": [
        "3) Repita o algoritmo acima, porém imprima quantos valores estão acima da média."
      ]
    },
    {
      "cell_type": "code",
      "metadata": {
        "colab": {
          "base_uri": "https://localhost:8080/"
        },
        "id": "SOpzl_pxyFwU",
        "outputId": "276935d9-5edc-44f1-fe57-12c36826c011"
      },
      "source": [
        "nota = []\n",
        "media = 0\n",
        "acima_media = 0\n",
        "for i in range (10):\n",
        "  nota.append(float(input(\"Qual é a nota do aluno [%i]?: \" % i)))\n",
        "  media = sum(nota) / len(nota)\n",
        "for o in nota:\n",
        "  if o > media:\n",
        "    acima_media += 1\n",
        "\n",
        "print(\"\\n Notas: \\n\", nota, \"\\n Media: \\n\", \"%.2f\" % media, \"\\n Acima da Media: \\n\", acima_media)"
      ],
      "execution_count": null,
      "outputs": [
        {
          "output_type": "stream",
          "text": [
            "Qual é a nota do aluno [0]?: 10\n",
            "Qual é a nota do aluno [1]?: 12\n",
            "Qual é a nota do aluno [2]?: 1\n",
            "Qual é a nota do aluno [3]?: 2\n",
            "Qual é a nota do aluno [4]?: 5.5\n",
            "\n",
            " Notas: \n",
            " [10.0, 12.0, 1.0, 2.0, 5.5] \n",
            " Media: \n",
            " 6.10 \n",
            " Acima da Media: \n",
            " 2\n"
          ],
          "name": "stdout"
        }
      ]
    },
    {
      "cell_type": "markdown",
      "metadata": {
        "id": "9q7j858-2DPK"
      },
      "source": [
        "4) Faça um algoritmo que leia um vetor que contém as notas de 30 alunos. Imprima o maior valor, o menor valor, a média da turma e a quantidade de notas abaixo da média."
      ]
    },
    {
      "cell_type": "code",
      "metadata": {
        "colab": {
          "base_uri": "https://localhost:8080/"
        },
        "id": "UdmOXI1-2FCf",
        "outputId": "380ac764-ed1d-4e26-fc71-a50b35d01f19"
      },
      "source": [
        "nota = []\n",
        "abaixo_media = 0\n",
        "media = 0.0\n",
        "for i in range(30):\n",
        "  nota.append(float(input(\"Qual é a nota do aluno [%i]?: \" % i)))\n",
        "  maior = max(nota)\n",
        "  menor = min(nota)\n",
        "  media = sum(nota) / len(nota) \n",
        "for o in nota:\n",
        "  if o < media:\n",
        "    abaixo_media += 1\n",
        "  \n",
        "\n",
        "print(\"\\n Maior nota: \\n\", maior, \"\\n Menor nota: \\n\", menor, \"\\n Media: \\n\", \"%.2f\" % media , \"\\n Abaixo da Media: \\n\", abaixo_media)"
      ],
      "execution_count": null,
      "outputs": [
        {
          "output_type": "stream",
          "text": [
            "Qual é a nota do aluno [0]?: 7\n",
            "Qual é a nota do aluno [1]?: 10\n",
            "Qual é a nota do aluno [2]?: 1\n",
            "Qual é a nota do aluno [3]?: 1.5\n",
            "Qual é a nota do aluno [4]?: 2\n",
            "\n",
            " Maior nota: \n",
            " 10.0 \n",
            " Menor nota: \n",
            " 1.0 \n",
            " Media: \n",
            " 4.30 \n",
            " Abaixo da Media: \n",
            " 3\n"
          ],
          "name": "stdout"
        }
      ]
    },
    {
      "cell_type": "markdown",
      "metadata": {
        "id": "LAF1LGCxk_zT"
      },
      "source": [
        "5) Ler um vetor de 100 elementos numéricos e verificar se existem elementos iguais a 30. Se existirem, escrever as posições em que estão armazenados"
      ]
    },
    {
      "cell_type": "code",
      "metadata": {
        "colab": {
          "base_uri": "https://localhost:8080/"
        },
        "id": "D5Gyv4SzsIPz",
        "outputId": "291137c4-96f9-4bd4-8d95-93dbcb766573"
      },
      "source": [
        "def numeros(lista):\n",
        "  posicao = [a for a, b in enumerate(lista) if b == 30]\n",
        "  return posicao\n",
        "\n",
        "#Lista de teste\n",
        "numeros([30, 1, 2, 3, 4, 30, 21, 30])"
      ],
      "execution_count": 54,
      "outputs": [
        {
          "output_type": "execute_result",
          "data": {
            "text/plain": [
              "[0, 5, 7]"
            ]
          },
          "metadata": {
            "tags": []
          },
          "execution_count": 54
        }
      ]
    },
    {
      "cell_type": "markdown",
      "metadata": {
        "id": "qwpUYF8Fi8Qn"
      },
      "source": [
        "6) Fazer um algoritmo que calcule e escreva o somatório dos valores armazenados numa variável composta unidimensional (vetor) A, de 100 elementos numéricos a serem lidos do dispositivo de entrada."
      ]
    },
    {
      "cell_type": "code",
      "metadata": {
        "colab": {
          "base_uri": "https://localhost:8080/"
        },
        "id": "m6PNgBvxi69D",
        "outputId": "6bd8565d-8c90-47b0-e52e-072349d2c18f"
      },
      "source": [
        "def lista(variavel):\n",
        "  total = sum(variavel)\n",
        "  return total\n",
        "\n",
        "#Lista de teste\n",
        "lista([2, 3, 5])"
      ],
      "execution_count": 49,
      "outputs": [
        {
          "output_type": "execute_result",
          "data": {
            "text/plain": [
              "10"
            ]
          },
          "metadata": {
            "tags": []
          },
          "execution_count": 49
        }
      ]
    },
    {
      "cell_type": "code",
      "metadata": {
        "colab": {
          "base_uri": "https://localhost:8080/"
        },
        "id": "XY3bledYjV11",
        "outputId": "770e3dc0-118c-4bb9-8ae6-78c4c659c63d"
      },
      "source": [
        "lista = [numeros for numeros in range(100)]\n",
        "total = sum(lista)\n",
        "print(total)"
      ],
      "execution_count": 20,
      "outputs": [
        {
          "output_type": "stream",
          "text": [
            "4950\n"
          ],
          "name": "stdout"
        }
      ]
    },
    {
      "cell_type": "markdown",
      "metadata": {
        "id": "2PwNxC1ujPIL"
      },
      "source": [
        "7) Escreva um algoritmo que leia um vetor de 200 valores numéricos reais e os imprima na ordem contrária em que foi lida."
      ]
    },
    {
      "cell_type": "code",
      "metadata": {
        "id": "GN_UrL8xjWP_",
        "colab": {
          "base_uri": "https://localhost:8080/"
        },
        "outputId": "000e58d2-6d9e-40b8-e11c-fa04d10d0118"
      },
      "source": [
        "def lista(vetor):\n",
        "  vetor.reverse()\n",
        "  return vetor\n",
        "\n",
        "#Lista de teste\n",
        "lista([2, 3, 5, 7, 11, 13, 17, 19, 23, 29, 31, 37, 41])"
      ],
      "execution_count": 47,
      "outputs": [
        {
          "output_type": "execute_result",
          "data": {
            "text/plain": [
              "[41, 37, 31, 29, 23, 19, 17, 13, 11, 7, 5, 3, 2]"
            ]
          },
          "metadata": {
            "tags": []
          },
          "execution_count": 47
        }
      ]
    },
    {
      "cell_type": "code",
      "metadata": {
        "colab": {
          "base_uri": "https://localhost:8080/"
        },
        "id": "iV17MPwae_MB",
        "outputId": "ef984f5c-a09b-4242-d59c-40fee96f75ba"
      },
      "source": [
        "lista = [numeros for numeros in range(200)]\n",
        "lista.reverse()\n",
        "print(lista)"
      ],
      "execution_count": 21,
      "outputs": [
        {
          "output_type": "stream",
          "text": [
            "[199, 198, 197, 196, 195, 194, 193, 192, 191, 190, 189, 188, 187, 186, 185, 184, 183, 182, 181, 180, 179, 178, 177, 176, 175, 174, 173, 172, 171, 170, 169, 168, 167, 166, 165, 164, 163, 162, 161, 160, 159, 158, 157, 156, 155, 154, 153, 152, 151, 150, 149, 148, 147, 146, 145, 144, 143, 142, 141, 140, 139, 138, 137, 136, 135, 134, 133, 132, 131, 130, 129, 128, 127, 126, 125, 124, 123, 122, 121, 120, 119, 118, 117, 116, 115, 114, 113, 112, 111, 110, 109, 108, 107, 106, 105, 104, 103, 102, 101, 100, 99, 98, 97, 96, 95, 94, 93, 92, 91, 90, 89, 88, 87, 86, 85, 84, 83, 82, 81, 80, 79, 78, 77, 76, 75, 74, 73, 72, 71, 70, 69, 68, 67, 66, 65, 64, 63, 62, 61, 60, 59, 58, 57, 56, 55, 54, 53, 52, 51, 50, 49, 48, 47, 46, 45, 44, 43, 42, 41, 40, 39, 38, 37, 36, 35, 34, 33, 32, 31, 30, 29, 28, 27, 26, 25, 24, 23, 22, 21, 20, 19, 18, 17, 16, 15, 14, 13, 12, 11, 10, 9, 8, 7, 6, 5, 4, 3, 2, 1, 0]\n"
          ],
          "name": "stdout"
        }
      ]
    }
  ]
}
