{
  "nbformat": 4,
  "nbformat_minor": 0,
  "metadata": {
    "colab": {
      "name": "POO 4 - Thuany 3info1.ipynb",
      "provenance": [],
      "authorship_tag": "ABX9TyPIo9dyGYbY5HEFLkCJ8PxI",
      "include_colab_link": true
    },
    "kernelspec": {
      "name": "python3",
      "display_name": "Python 3"
    },
    "language_info": {
      "name": "python"
    }
  },
  "cells": [
    {
      "cell_type": "markdown",
      "metadata": {
        "id": "view-in-github",
        "colab_type": "text"
      },
      "source": [
        "<a href=\"https://colab.research.google.com/github/Thurunany/2021_EAD/blob/main/POO_4_Thuany_3info1.ipynb\" target=\"_parent\"><img src=\"https://colab.research.google.com/assets/colab-badge.svg\" alt=\"Open In Colab\"/></a>"
      ]
    },
    {
      "cell_type": "markdown",
      "metadata": {
        "id": "JdirniTiVg-G"
      },
      "source": [
        "\n",
        "1. Nós usamos o modificador de acesso private a fim de:\n",
        "\n",
        "a) Limitar o acesso a uma classe\n",
        "\n",
        "\n",
        "\n",
        "b) Limitar o acesso às propriedades\n",
        "\n",
        "\n",
        "\n",
        "\n",
        "c) Limitar o acesso aos métodos\n",
        "\n",
        "**d) B e C estão corretas**"
      ]
    },
    {
      "cell_type": "code",
      "metadata": {
        "colab": {
          "base_uri": "https://localhost:8080/"
        },
        "id": "bgAO_HyNUaF6",
        "outputId": "75094309-26a2-4ca5-d996-13276406cd54"
      },
      "source": [
        "class Usuario:\n",
        "  primeiroNome = \"\"\n",
        "  def setPrimeiroNome(self, nome):\n",
        "    self.primeiroNome = nome\n",
        "  def getPrimeiroNome(self):\n",
        "    return \"Seu nome é \" + self.primeiroNome\n",
        "usuario1 = Usuario()\n",
        "usuario1.setPrimeiroNome(\"Joe\")\n",
        "print(usuario1.getPrimeiroNome())"
      ],
      "execution_count": 1,
      "outputs": [
        {
          "output_type": "stream",
          "text": [
            "Seu nome é Joe\n"
          ],
          "name": "stdout"
        }
      ]
    }
  ]
}
