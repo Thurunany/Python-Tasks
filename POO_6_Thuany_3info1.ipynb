{
  "nbformat": 4,
  "nbformat_minor": 0,
  "metadata": {
    "colab": {
      "name": "POO 6 - Thuany 3info1.ipynb",
      "provenance": [],
      "authorship_tag": "ABX9TyPwaoz29cPqo8zeuAiBLldQ",
      "include_colab_link": true
    },
    "kernelspec": {
      "name": "python3",
      "display_name": "Python 3"
    },
    "language_info": {
      "name": "python"
    }
  },
  "cells": [
    {
      "cell_type": "markdown",
      "metadata": {
        "id": "view-in-github",
        "colab_type": "text"
      },
      "source": [
        "<a href=\"https://colab.research.google.com/github/Thurunany/2021_EAD/blob/main/POO_6_Thuany_3info1.ipynb\" target=\"_parent\"><img src=\"https://colab.research.google.com/assets/colab-badge.svg\" alt=\"Open In Colab\"/></a>"
      ]
    },
    {
      "cell_type": "code",
      "metadata": {
        "colab": {
          "base_uri": "https://localhost:8080/"
        },
        "id": "X8pkIJY44DG9",
        "outputId": "1766a292-4fa0-4f4f-dbea-266b9269b8ae"
      },
      "source": [
        "class Usuario():\n",
        "  _nomeUsuario = \"\"\n",
        "\n",
        "  def setNomeUsuario (self, nomeUsuario):\n",
        "    self._nomeUsuario = nomeUsuario\n",
        "\n",
        "  def getNomeUsuario (self):\n",
        "    return self._nomeUsuario\n",
        "\n",
        "class Admin (Usuario):\n",
        "\n",
        "  def escrevanome (self):\n",
        "    return \"Admin \"\n",
        "  \n",
        "  def digaola(self):\n",
        "    return \"Olá Admin, \" + self.getNomeUsuario()\n",
        "\n",
        "adminl = Admin()\n",
        "adminl.setNomeUsuario(\"Baltazar\")\n",
        "print(adminl.digaola())"
      ],
      "execution_count": 6,
      "outputs": [
        {
          "output_type": "stream",
          "text": [
            "Olá Admin, Baltazar\n"
          ],
          "name": "stdout"
        }
      ]
    }
  ]
}