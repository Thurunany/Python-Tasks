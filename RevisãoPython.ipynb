{
  "nbformat": 4,
  "nbformat_minor": 0,
  "metadata": {
    "colab": {
      "name": "Thuany_RevisãoPython.ipynb",
      "provenance": [],
      "collapsed_sections": [],
      "authorship_tag": "ABX9TyNTVSMxY+sq/he/ue109W6I",
      "include_colab_link": true
    },
    "kernelspec": {
      "name": "python3",
      "display_name": "Python 3"
    },
    "language_info": {
      "name": "python"
    }
  },
  "cells": [
    {
      "cell_type": "markdown",
      "metadata": {
        "id": "view-in-github",
        "colab_type": "text"
      },
      "source": [
        "<a href=\"https://colab.research.google.com/github/Thurunany/2021_EAD/blob/main/Thuany_Revis%C3%A3oPython.ipynb\" target=\"_parent\"><img src=\"https://colab.research.google.com/assets/colab-badge.svg\" alt=\"Open In Colab\"/></a>"
      ]
    },
    {
      "cell_type": "markdown",
      "metadata": {
        "id": "vR0YcaycEVmf"
      },
      "source": [
        "1) Faça um programa que peça dois números inteiros e imprima a soma desses dois números"
      ]
    },
    {
      "cell_type": "code",
      "metadata": {
        "colab": {
          "base_uri": "https://localhost:8080/"
        },
        "id": "KAnOAgxj4HAp",
        "outputId": "79e2eb9a-64d9-46ce-d0b3-d9c0fd89d144"
      },
      "source": [
        "a = int(input(\"Primeiro número da soma: \"))\n",
        "b = int(input(\"Segundo número da soma: \"))\n",
        "resultado = a + b\n",
        "print(\"Resultado =\", resultado)"
      ],
      "execution_count": 12,
      "outputs": [
        {
          "output_type": "stream",
          "text": [
            "Primeiro número da soma: 1\n",
            "Segundo número da soma: 3\n",
            "Resultado = 4\n"
          ],
          "name": "stdout"
        }
      ]
    },
    {
      "cell_type": "markdown",
      "metadata": {
        "id": "sT_9_p8gEfN_"
      },
      "source": [
        "2) Escreva um programa que leia um valor em metros e o exiba convertido em milímetros"
      ]
    },
    {
      "cell_type": "code",
      "metadata": {
        "colab": {
          "base_uri": "https://localhost:8080/"
        },
        "id": "WqB0UJiCDlWo",
        "outputId": "9ec45b7f-b795-4b21-9092-c7ea75ed3b5a"
      },
      "source": [
        "metros = float(input(\"bote seus metros aqui: \"))\n",
        "mili = metros * 1000\n",
        "print(\"Metros para Milímetros: \", mili , \"mm\")"
      ],
      "execution_count": 16,
      "outputs": [
        {
          "output_type": "stream",
          "text": [
            "bote seus metros aqui: 6\n",
            "Metros para Milímetros:  6000.0 mm\n"
          ],
          "name": "stdout"
        }
      ]
    },
    {
      "cell_type": "markdown",
      "metadata": {
        "id": "AO98MrHvElVW"
      },
      "source": [
        "3) Escreva um programa que leia a quantidade de dias, horas, minutos e segundos do usuário. Calcule o total em segundos."
      ]
    },
    {
      "cell_type": "code",
      "metadata": {
        "colab": {
          "base_uri": "https://localhost:8080/"
        },
        "id": "Okg0SdC2Dj6M",
        "outputId": "b376742f-233b-4e9e-d1f5-c93ed02455c2"
      },
      "source": [
        "Dias = int(input(\"Quantidade de Dias: \"))\n",
        "Horas = int(input(\"Quantidade de Horas: \"))\n",
        "Minutos = int(input(\"Quantidade de Minutos: \"))\n",
        "Segundos = int(input(\"Quantidade de Segundos: \"))\n",
        "Total = (Dias * 86400) + (Horas * 3600) + (Minutos * 60) + Segundos\n",
        "print(\"Quantidade total em segundos: \", Total)"
      ],
      "execution_count": 24,
      "outputs": [
        {
          "output_type": "stream",
          "text": [
            "Quantidade de Dias: 2\n",
            "Quantidade de Horas: 3\n",
            "Quantidade de Minutos: 0\n",
            "Quantidade de Segundos: 0\n",
            "Quantidade total em segundos:  183600\n"
          ],
          "name": "stdout"
        }
      ]
    },
    {
      "cell_type": "markdown",
      "metadata": {
        "id": "xvp2IwIfErlO"
      },
      "source": [
        "7) Converta uma temperatura digitada em Celsius para Fahrenheit. F = 9*C/5 + 32"
      ]
    },
    {
      "cell_type": "code",
      "metadata": {
        "colab": {
          "base_uri": "https://localhost:8080/"
        },
        "id": "GuATk-3DDqBx",
        "outputId": "2734f4cc-4754-4c95-b591-3ea21e948925"
      },
      "source": [
        "Celsius = float(input(\"Temperatura em Celsius: \"))\n",
        "Fahrenheit = 9*(Celsius/5) + 32\n",
        "print(\"Mesma temperatura em Fahrenheit: \", Fahrenheit)"
      ],
      "execution_count": 17,
      "outputs": [
        {
          "output_type": "stream",
          "text": [
            "Temperatura em Celsius: 70\n",
            "Mesma temperatura em Fahrenheit:  158.0\n"
          ],
          "name": "stdout"
        }
      ]
    },
    {
      "cell_type": "markdown",
      "metadata": {
        "id": "m_WZ4Z-DE1ao"
      },
      "source": [
        "8) Faça agora o contrário, de Fahrenheit para Celsius."
      ]
    },
    {
      "cell_type": "code",
      "metadata": {
        "colab": {
          "base_uri": "https://localhost:8080/"
        },
        "id": "RNCUp1_jEL_C",
        "outputId": "05ad1175-a5d4-44f1-8d78-d639028eaf8a"
      },
      "source": [
        "Fahrenheit = float(input(\"Temperatura em Fahrenheit: \"))\n",
        "Celsius = (Fahrenheit - 32) * 5/9\n",
        "print(\"Mesma temperatura em Celsius: \", Celsius)"
      ],
      "execution_count": 18,
      "outputs": [
        {
          "output_type": "stream",
          "text": [
            "Temperatura em Fahrenheit: 100\n",
            "Mesma temperatura em Celsius:  37.77777777777778\n"
          ],
          "name": "stdout"
        }
      ]
    },
    {
      "cell_type": "markdown",
      "metadata": {
        "id": "iJU-lH4tE5au"
      },
      "source": [
        "9) Escreva um programa que pergunte a quantidade de km percorridos por um carro alugado pelo usuário, assim como a quantidade de dias pelos quais o carro foi alugado. Calcule o preço a pagar,sabendo que o carro custa RS60,00 por dia e  RS0,15 por km rodado."
      ]
    },
    {
      "cell_type": "code",
      "metadata": {
        "colab": {
          "base_uri": "https://localhost:8080/"
        },
        "id": "5F_RvUuMEPox",
        "outputId": "a9e7f157-e1fd-44cb-9fb3-03ca40f68d9f"
      },
      "source": [
        "dias = float(input(\"Dias que o carro foi alugado: \"))\n",
        "km = float(input(\"Km que foram percorridos: \"))\n",
        "dias_q = dias * 60.00\n",
        "km_q = km * 0.15\n",
        "total = dias_q + km_q\n",
        "print(\"Preço a pagar: RS\", total)"
      ],
      "execution_count": 20,
      "outputs": [
        {
          "output_type": "stream",
          "text": [
            "Dias que o carro foi alugado: 3\n",
            "Km que foram percorridos: 45\n",
            "Preço a pagar: RS 186.75\n"
          ],
          "name": "stdout"
        }
      ]
    }
  ]
}
