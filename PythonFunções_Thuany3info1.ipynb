{
  "nbformat": 4,
  "nbformat_minor": 0,
  "metadata": {
    "colab": {
      "name": "PythonFunções_Thuany3info1.ipynb",
      "provenance": [],
      "collapsed_sections": [],
      "authorship_tag": "ABX9TyNuJemNn4L2jJ7yPzBXp+aN",
      "include_colab_link": true
    },
    "kernelspec": {
      "name": "python3",
      "display_name": "Python 3"
    },
    "language_info": {
      "name": "python"
    }
  },
  "cells": [
    {
      "cell_type": "markdown",
      "metadata": {
        "id": "view-in-github",
        "colab_type": "text"
      },
      "source": [
        "<a href=\"https://colab.research.google.com/github/Thurunany/2021_EAD/blob/main/PythonFun%C3%A7%C3%B5es_Thuany3info1.ipynb\" target=\"_parent\"><img src=\"https://colab.research.google.com/assets/colab-badge.svg\" alt=\"Open In Colab\"/></a>"
      ]
    },
    {
      "cell_type": "markdown",
      "metadata": {
        "id": "-sYooALDVQ0x"
      },
      "source": [
        "1. Faça uma função para converter uma temperatura em graus Fahrenheit para\n",
        "Celsius. A temperatura em Fahrenheit é o dado de entrada e a temperatura em\n",
        "Celsius é o dado de saída. Utilize a fórmula C = (F - 32) * 5/9, onde F é a\n",
        "temperatura em Fahrenheit e C é a temperatura em Celsius."
      ]
    },
    {
      "cell_type": "code",
      "metadata": {
        "colab": {
          "base_uri": "https://localhost:8080/"
        },
        "id": "3yHKgMmoVLYB",
        "outputId": "a8cdd557-326c-4d0b-b71e-2e2eb7a81620"
      },
      "source": [
        "def fahrenheit(F):\n",
        "  C = (F-32) * 5/9\n",
        "  return round(C, 2)\n",
        "\n",
        "#Numero de teste\n",
        "fahrenheit(107)"
      ],
      "execution_count": null,
      "outputs": [
        {
          "output_type": "execute_result",
          "data": {
            "text/plain": [
              "41.67"
            ]
          },
          "metadata": {
            "tags": []
          },
          "execution_count": 4
        }
      ]
    },
    {
      "cell_type": "markdown",
      "metadata": {
        "id": "2nkKq6bHV8BI"
      },
      "source": [
        "\n",
        "2. Faça uma função que calcule a hipotenusa. Os catetos são os dados de entrada e a hipotenusa é o dado de saída."
      ]
    },
    {
      "cell_type": "code",
      "metadata": {
        "colab": {
          "base_uri": "https://localhost:8080/"
        },
        "id": "UNLNAycZtGS1",
        "outputId": "29d12e4d-d6db-4163-a9e0-9e547dee339e"
      },
      "source": [
        "def hipotenusa(a, b):\n",
        "  h = ((a**2) + (b**2)) ** 0.5\n",
        "  return h\n",
        "\n",
        "#Numero de teste\n",
        "hipotenusa(42, 21)"
      ],
      "execution_count": null,
      "outputs": [
        {
          "output_type": "execute_result",
          "data": {
            "text/plain": [
              "46.95742752749558"
            ]
          },
          "metadata": {
            "tags": []
          },
          "execution_count": 5
        }
      ]
    },
    {
      "cell_type": "markdown",
      "metadata": {
        "id": "-H1sZLPttSwV"
      },
      "source": [
        "3. Escreva um programa para ler as notas das duas avaliações de um aluno no\n",
        "semestre. Faça uma função que receba as duas notas por parâmetro e calcule e\n",
        "escreva a média semestral e a mensagem “PARABÉNS! Você foi aprovado!”\n",
        "somente se o aluno foi aprovado (considere 6.0 a média mínima para aprovação)."
      ]
    },
    {
      "cell_type": "code",
      "metadata": {
        "colab": {
          "base_uri": "https://localhost:8080/"
        },
        "id": "H8X84Uh8tW7a",
        "outputId": "566c90b7-d2df-4b35-aea1-877e9cd79316"
      },
      "source": [
        "def teste(nota1, nota2):  \n",
        "  if (nota1 + nota2) / 2 >= 6:\n",
        "    print(\"PARABÉNS! Você foi aprovado!\")\n",
        "  else:\n",
        "    print(\"Não foi aprovado :(\")\n",
        "\n",
        "#Numero de teste\n",
        "teste(8, 4)\n",
        "teste(7, 4)"
      ],
      "execution_count": null,
      "outputs": [
        {
          "output_type": "stream",
          "text": [
            "PARABÉNS! Você foi aprovado!\n",
            "Não foi aprovado :(\n"
          ],
          "name": "stdout"
        }
      ]
    },
    {
      "cell_type": "markdown",
      "metadata": {
        "id": "HV52_oket523"
      },
      "source": [
        "9. Escreva uma função que receba dois números inteiros x e y. Essa função deve\n",
        "verificar se x é divisível por y. No caso positivo, a função deve retornar 1, caso\n",
        "contrário zero. Escreva também um programa para testar tal função."
      ]
    },
    {
      "cell_type": "code",
      "metadata": {
        "colab": {
          "base_uri": "https://localhost:8080/"
        },
        "id": "_Z7U6upbt_Rz",
        "outputId": "474ec25d-3838-49fa-9c15-c6cc16fa997c"
      },
      "source": [
        "def divisivel(x, y):\n",
        "  if (x % y == 0):\n",
        "    return 1\n",
        "  else:\n",
        "    return 0\n",
        "\n",
        "#Numero de teste\n",
        "divisivel(42, 21)"
      ],
      "execution_count": null,
      "outputs": [
        {
          "output_type": "execute_result",
          "data": {
            "text/plain": [
              "1"
            ]
          },
          "metadata": {
            "tags": []
          },
          "execution_count": 10
        }
      ]
    },
    {
      "cell_type": "markdown",
      "metadata": {
        "id": "z2mUwDM-ucUu"
      },
      "source": [
        "10. Criar uma função que calcule e retorne o MAIOR entre dois valores recebidos como\n",
        "parâmetros. Um programa para testar tal função deve ser criado."
      ]
    },
    {
      "cell_type": "code",
      "metadata": {
        "colab": {
          "base_uri": "https://localhost:8080/"
        },
        "id": "GfLqT5ZsugQ0",
        "outputId": "e96a1fcb-5ea3-4dcd-c765-61342e317ee9"
      },
      "source": [
        "def maior(x, y):\n",
        "  if x > y:\n",
        "    return x\n",
        "  else:\n",
        "    return y\n",
        "\n",
        "#Numero de teste\n",
        "maior(2, 4)"
      ],
      "execution_count": null,
      "outputs": [
        {
          "output_type": "execute_result",
          "data": {
            "text/plain": [
              "7"
            ]
          },
          "metadata": {
            "tags": []
          },
          "execution_count": 12
        }
      ]
    },
    {
      "cell_type": "markdown",
      "metadata": {
        "id": "kVb8cR_gu2T1"
      },
      "source": [
        "11. Crie uma função que realize a conversão de Polegadas (pol) para Centímetros\n",
        "(cm), onde pol é passado como parâmetro e cm é retornado. Sabe-se que 1\n",
        "polegada tem 2.54 centímetros. Crie também um programa para testar tal função."
      ]
    },
    {
      "cell_type": "code",
      "metadata": {
        "colab": {
          "base_uri": "https://localhost:8080/"
        },
        "id": "UhzsY8L4u5Aj",
        "outputId": "59ec383c-8f3b-461e-c91e-b171285daa7d"
      },
      "source": [
        "def pol_para_cm(pol):\n",
        "  cm = pol * 2.54\n",
        "  return cm\n",
        "\n",
        "#Numero de teste\n",
        "pol_para_cm(42)"
      ],
      "execution_count": null,
      "outputs": [
        {
          "output_type": "execute_result",
          "data": {
            "text/plain": [
              "106.68"
            ]
          },
          "metadata": {
            "tags": []
          },
          "execution_count": 13
        }
      ]
    }
  ]
}