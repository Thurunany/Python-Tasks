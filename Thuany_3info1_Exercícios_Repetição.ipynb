{
  "nbformat": 4,
  "nbformat_minor": 0,
  "metadata": {
    "colab": {
      "name": "Thuany - 3info1 - Exercícios Repetição.ipynb",
      "provenance": [],
      "collapsed_sections": [],
      "authorship_tag": "ABX9TyNrj3AdYWguo9xf2UiXonV4",
      "include_colab_link": true
    },
    "kernelspec": {
      "name": "python3",
      "display_name": "Python 3"
    },
    "language_info": {
      "name": "python"
    }
  },
  "cells": [
    {
      "cell_type": "markdown",
      "metadata": {
        "id": "view-in-github",
        "colab_type": "text"
      },
      "source": [
        "<a href=\"https://colab.research.google.com/github/Thurunany/2021_EAD/blob/main/Thuany_3info1_Exerc%C3%ADcios_Repeti%C3%A7%C3%A3o.ipynb\" target=\"_parent\"><img src=\"https://colab.research.google.com/assets/colab-badge.svg\" alt=\"Open In Colab\"/></a>"
      ]
    },
    {
      "cell_type": "markdown",
      "metadata": {
        "id": "5BjhqEZz_HR1"
      },
      "source": [
        "1. Faça um algoritmo que:\n",
        "• leia 20 números inteiros;\n",
        "• escreva os números que são negativos;\n",
        "• escreva a média dos números positivos."
      ]
    },
    {
      "cell_type": "code",
      "metadata": {
        "colab": {
          "base_uri": "https://localhost:8080/"
        },
        "id": "MbTZTe-r_H_Q",
        "outputId": "dbaa9918-6700-4cf6-a49d-78124eba6d1d"
      },
      "source": [
        "negativo = []\n",
        "positivo = []\n",
        "soma = 0\n",
        "for numero in range(20):\n",
        "  numero = int(input(\"Coloque aqui seu número: \"))\n",
        "  if numero < 0: \n",
        "    negativo.append(numero);\n",
        "  else:\n",
        "    positivo.append(numero);\n",
        "    soma = sum(positivo)\n",
        "    divisor = len(positivo);\n",
        "    media = soma / divisor\n",
        "print(\"\\n Negativos: \",  negativo, \"\\n Positivos media: \", round(media, 2))"
      ],
      "execution_count": 24,
      "outputs": [
        {
          "output_type": "stream",
          "text": [
            "Coloque aqui seu número: 2\n",
            "Coloque aqui seu número: -1\n",
            "Coloque aqui seu número: 2\n",
            "Coloque aqui seu número: -3\n",
            "Coloque aqui seu número: 2\n",
            "Coloque aqui seu número: -4\n",
            "Coloque aqui seu número: 2\n",
            "Coloque aqui seu número: -6\n",
            "Coloque aqui seu número: 2\n",
            "Coloque aqui seu número: -8\n",
            "Coloque aqui seu número: 2\n",
            "Coloque aqui seu número: -10\n",
            "Coloque aqui seu número: 2\n",
            "Coloque aqui seu número: -12\n",
            "Coloque aqui seu número: 2\n",
            "Coloque aqui seu número: -14\n",
            "Coloque aqui seu número: 2\n",
            "Coloque aqui seu número: -16\n",
            "Coloque aqui seu número: 2\n",
            "Coloque aqui seu número: -18\n",
            "\n",
            " Negativos:  [-1, -3, -4, -6, -8, -10, -12, -14, -16, -18] \n",
            " Positivos media:  2.0\n"
          ],
          "name": "stdout"
        }
      ]
    },
    {
      "cell_type": "markdown",
      "metadata": {
        "id": "pkrzfMOU8ko0"
      },
      "source": [
        "2. Faça um algoritmo que leia 15 números inteiros e escreva, para cada número lido, se é\n",
        "par ou ímpar."
      ]
    },
    {
      "cell_type": "code",
      "metadata": {
        "id": "KTS8FZyo8lUn",
        "colab": {
          "base_uri": "https://localhost:8080/"
        },
        "outputId": "d5e6f0f5-c9ba-40cb-b589-ca61de31f0db"
      },
      "source": [
        "for numero in range(15):\n",
        "  numero = int(input(\"Coloque aqui seu número: \"))\n",
        "  if numero % 2 == 0: \n",
        "    print(\"Número par!\")\n",
        "  else:\n",
        "    print(\"Numeros impar!\")"
      ],
      "execution_count": 25,
      "outputs": [
        {
          "output_type": "stream",
          "text": [
            "Coloque aqui seu número: 1\n",
            "Numeros impar!\n",
            "Coloque aqui seu número: 23\n",
            "Numeros impar!\n",
            "Coloque aqui seu número: 43\n",
            "Numeros impar!\n",
            "Coloque aqui seu número: 47\n",
            "Numeros impar!\n",
            "Coloque aqui seu número: 29\n",
            "Numeros impar!\n",
            "Coloque aqui seu número: 21\n",
            "Numeros impar!\n",
            "Coloque aqui seu número: 45\n",
            "Numeros impar!\n",
            "Coloque aqui seu número: 42\n",
            "Número par!\n",
            "Coloque aqui seu número: 84\n",
            "Número par!\n",
            "Coloque aqui seu número: 98\n",
            "Número par!\n",
            "Coloque aqui seu número: 54\n",
            "Número par!\n",
            "Coloque aqui seu número: 28\n",
            "Número par!\n",
            "Coloque aqui seu número: 32\n",
            "Número par!\n",
            "Coloque aqui seu número: 16\n",
            "Número par!\n",
            "Coloque aqui seu número: 18\n",
            "Número par!\n"
          ],
          "name": "stdout"
        }
      ]
    },
    {
      "cell_type": "markdown",
      "metadata": {
        "id": "H-FhSYHadfUF"
      },
      "source": [
        "4. Faça um algoritmo que calcule e escreva a soma dos números pares e a soma dos\n",
        "números ímpares entre 1 e 100."
      ]
    },
    {
      "cell_type": "code",
      "metadata": {
        "id": "am3Qe0ERdgax",
        "colab": {
          "base_uri": "https://localhost:8080/"
        },
        "outputId": "3bca0d53-e16e-4013-ef30-17242e7b5739"
      },
      "source": [
        "soma_par = 0 \n",
        "soma_impar = 0\n",
        "for num in range(1, 101):\n",
        "  if num % 2 == 0:\n",
        "    soma_par += num;\n",
        "  else:\n",
        "    soma_impar += num;\n",
        "  print(\"\\n Soma par: \", soma_par, \"\\n Soma impar: \", soma_impar)"
      ],
      "execution_count": 26,
      "outputs": [
        {
          "output_type": "stream",
          "text": [
            "\n",
            " Soma par:  0 \n",
            " Soma impar:  1\n",
            "\n",
            " Soma par:  2 \n",
            " Soma impar:  1\n",
            "\n",
            " Soma par:  2 \n",
            " Soma impar:  4\n",
            "\n",
            " Soma par:  6 \n",
            " Soma impar:  4\n",
            "\n",
            " Soma par:  6 \n",
            " Soma impar:  9\n",
            "\n",
            " Soma par:  12 \n",
            " Soma impar:  9\n",
            "\n",
            " Soma par:  12 \n",
            " Soma impar:  16\n",
            "\n",
            " Soma par:  20 \n",
            " Soma impar:  16\n",
            "\n",
            " Soma par:  20 \n",
            " Soma impar:  25\n",
            "\n",
            " Soma par:  30 \n",
            " Soma impar:  25\n",
            "\n",
            " Soma par:  30 \n",
            " Soma impar:  36\n",
            "\n",
            " Soma par:  42 \n",
            " Soma impar:  36\n",
            "\n",
            " Soma par:  42 \n",
            " Soma impar:  49\n",
            "\n",
            " Soma par:  56 \n",
            " Soma impar:  49\n",
            "\n",
            " Soma par:  56 \n",
            " Soma impar:  64\n",
            "\n",
            " Soma par:  72 \n",
            " Soma impar:  64\n",
            "\n",
            " Soma par:  72 \n",
            " Soma impar:  81\n",
            "\n",
            " Soma par:  90 \n",
            " Soma impar:  81\n",
            "\n",
            " Soma par:  90 \n",
            " Soma impar:  100\n",
            "\n",
            " Soma par:  110 \n",
            " Soma impar:  100\n",
            "\n",
            " Soma par:  110 \n",
            " Soma impar:  121\n",
            "\n",
            " Soma par:  132 \n",
            " Soma impar:  121\n",
            "\n",
            " Soma par:  132 \n",
            " Soma impar:  144\n",
            "\n",
            " Soma par:  156 \n",
            " Soma impar:  144\n",
            "\n",
            " Soma par:  156 \n",
            " Soma impar:  169\n",
            "\n",
            " Soma par:  182 \n",
            " Soma impar:  169\n",
            "\n",
            " Soma par:  182 \n",
            " Soma impar:  196\n",
            "\n",
            " Soma par:  210 \n",
            " Soma impar:  196\n",
            "\n",
            " Soma par:  210 \n",
            " Soma impar:  225\n",
            "\n",
            " Soma par:  240 \n",
            " Soma impar:  225\n",
            "\n",
            " Soma par:  240 \n",
            " Soma impar:  256\n",
            "\n",
            " Soma par:  272 \n",
            " Soma impar:  256\n",
            "\n",
            " Soma par:  272 \n",
            " Soma impar:  289\n",
            "\n",
            " Soma par:  306 \n",
            " Soma impar:  289\n",
            "\n",
            " Soma par:  306 \n",
            " Soma impar:  324\n",
            "\n",
            " Soma par:  342 \n",
            " Soma impar:  324\n",
            "\n",
            " Soma par:  342 \n",
            " Soma impar:  361\n",
            "\n",
            " Soma par:  380 \n",
            " Soma impar:  361\n",
            "\n",
            " Soma par:  380 \n",
            " Soma impar:  400\n",
            "\n",
            " Soma par:  420 \n",
            " Soma impar:  400\n",
            "\n",
            " Soma par:  420 \n",
            " Soma impar:  441\n",
            "\n",
            " Soma par:  462 \n",
            " Soma impar:  441\n",
            "\n",
            " Soma par:  462 \n",
            " Soma impar:  484\n",
            "\n",
            " Soma par:  506 \n",
            " Soma impar:  484\n",
            "\n",
            " Soma par:  506 \n",
            " Soma impar:  529\n",
            "\n",
            " Soma par:  552 \n",
            " Soma impar:  529\n",
            "\n",
            " Soma par:  552 \n",
            " Soma impar:  576\n",
            "\n",
            " Soma par:  600 \n",
            " Soma impar:  576\n",
            "\n",
            " Soma par:  600 \n",
            " Soma impar:  625\n",
            "\n",
            " Soma par:  650 \n",
            " Soma impar:  625\n",
            "\n",
            " Soma par:  650 \n",
            " Soma impar:  676\n",
            "\n",
            " Soma par:  702 \n",
            " Soma impar:  676\n",
            "\n",
            " Soma par:  702 \n",
            " Soma impar:  729\n",
            "\n",
            " Soma par:  756 \n",
            " Soma impar:  729\n",
            "\n",
            " Soma par:  756 \n",
            " Soma impar:  784\n",
            "\n",
            " Soma par:  812 \n",
            " Soma impar:  784\n",
            "\n",
            " Soma par:  812 \n",
            " Soma impar:  841\n",
            "\n",
            " Soma par:  870 \n",
            " Soma impar:  841\n",
            "\n",
            " Soma par:  870 \n",
            " Soma impar:  900\n",
            "\n",
            " Soma par:  930 \n",
            " Soma impar:  900\n",
            "\n",
            " Soma par:  930 \n",
            " Soma impar:  961\n",
            "\n",
            " Soma par:  992 \n",
            " Soma impar:  961\n",
            "\n",
            " Soma par:  992 \n",
            " Soma impar:  1024\n",
            "\n",
            " Soma par:  1056 \n",
            " Soma impar:  1024\n",
            "\n",
            " Soma par:  1056 \n",
            " Soma impar:  1089\n",
            "\n",
            " Soma par:  1122 \n",
            " Soma impar:  1089\n",
            "\n",
            " Soma par:  1122 \n",
            " Soma impar:  1156\n",
            "\n",
            " Soma par:  1190 \n",
            " Soma impar:  1156\n",
            "\n",
            " Soma par:  1190 \n",
            " Soma impar:  1225\n",
            "\n",
            " Soma par:  1260 \n",
            " Soma impar:  1225\n",
            "\n",
            " Soma par:  1260 \n",
            " Soma impar:  1296\n",
            "\n",
            " Soma par:  1332 \n",
            " Soma impar:  1296\n",
            "\n",
            " Soma par:  1332 \n",
            " Soma impar:  1369\n",
            "\n",
            " Soma par:  1406 \n",
            " Soma impar:  1369\n",
            "\n",
            " Soma par:  1406 \n",
            " Soma impar:  1444\n",
            "\n",
            " Soma par:  1482 \n",
            " Soma impar:  1444\n",
            "\n",
            " Soma par:  1482 \n",
            " Soma impar:  1521\n",
            "\n",
            " Soma par:  1560 \n",
            " Soma impar:  1521\n",
            "\n",
            " Soma par:  1560 \n",
            " Soma impar:  1600\n",
            "\n",
            " Soma par:  1640 \n",
            " Soma impar:  1600\n",
            "\n",
            " Soma par:  1640 \n",
            " Soma impar:  1681\n",
            "\n",
            " Soma par:  1722 \n",
            " Soma impar:  1681\n",
            "\n",
            " Soma par:  1722 \n",
            " Soma impar:  1764\n",
            "\n",
            " Soma par:  1806 \n",
            " Soma impar:  1764\n",
            "\n",
            " Soma par:  1806 \n",
            " Soma impar:  1849\n",
            "\n",
            " Soma par:  1892 \n",
            " Soma impar:  1849\n",
            "\n",
            " Soma par:  1892 \n",
            " Soma impar:  1936\n",
            "\n",
            " Soma par:  1980 \n",
            " Soma impar:  1936\n",
            "\n",
            " Soma par:  1980 \n",
            " Soma impar:  2025\n",
            "\n",
            " Soma par:  2070 \n",
            " Soma impar:  2025\n",
            "\n",
            " Soma par:  2070 \n",
            " Soma impar:  2116\n",
            "\n",
            " Soma par:  2162 \n",
            " Soma impar:  2116\n",
            "\n",
            " Soma par:  2162 \n",
            " Soma impar:  2209\n",
            "\n",
            " Soma par:  2256 \n",
            " Soma impar:  2209\n",
            "\n",
            " Soma par:  2256 \n",
            " Soma impar:  2304\n",
            "\n",
            " Soma par:  2352 \n",
            " Soma impar:  2304\n",
            "\n",
            " Soma par:  2352 \n",
            " Soma impar:  2401\n",
            "\n",
            " Soma par:  2450 \n",
            " Soma impar:  2401\n",
            "\n",
            " Soma par:  2450 \n",
            " Soma impar:  2500\n",
            "\n",
            " Soma par:  2550 \n",
            " Soma impar:  2500\n"
          ],
          "name": "stdout"
        }
      ]
    },
    {
      "cell_type": "markdown",
      "metadata": {
        "id": "610lEi34hvt-"
      },
      "source": [
        "5. Faça um algoritmo que leia a altura de 20 pessoas e calcule a média aritmética das\n",
        "alturas."
      ]
    },
    {
      "cell_type": "code",
      "metadata": {
        "id": "Q7m7xP9NzL9v"
      },
      "source": [
        "def altura_media(lista_altura):\n",
        "  if len(lista_altura) < 20:\n",
        "    return \"Lista precisa ter 20 valores!\"\n",
        "  lista_soma = sum(lista_altura)\n",
        "  return lista_soma / len(lista_altura)"
      ],
      "execution_count": null,
      "outputs": []
    },
    {
      "cell_type": "code",
      "metadata": {
        "id": "D3LpHqXZhyLv",
        "colab": {
          "base_uri": "https://localhost:8080/"
        },
        "outputId": "9ef2ec38-4bdc-446f-dbf0-d965aed2c679"
      },
      "source": [
        "lista_altura = list(float(num) for num in input(\"Coloque aqui seus valores de altura em metros separados por espaço: \").strip().split())[:20]\n",
        "if len(lista_altura) < 20:\n",
        "  print(\"\\n Lista precisa ter 20 valores!\", \"\\n Tamanho atual da lista:\", len(lista_altura))\n",
        "else:\n",
        "  lista_soma = sum(lista_altura)\n",
        "  media = lista_soma/ 20\n",
        "  print(\"Lista de valores: \", lista_altura, \"\\n Media aritmetica das alturas: \", round(media, 2),\"m\")"
      ],
      "execution_count": 27,
      "outputs": [
        {
          "output_type": "stream",
          "text": [
            "Coloque aqui seus valores de altura em metros separados por espaço: 1.70 1.60 1.80 1.50 1.40 1.30 1.90 2 1.58 1.62 1.75 1.83 1.97 1.54 1.34 1.88 1.57 1.45 1.23 1.58  \n",
            "Lista de valores:  [1.7, 1.6, 1.8, 1.5, 1.4, 1.3, 1.9, 2.0, 1.58, 1.62, 1.75, 1.83, 1.97, 1.54, 1.34, 1.88, 1.57, 1.45, 1.23, 1.58] \n",
            " Media aritmetica das alturas:  1.63 m\n"
          ],
          "name": "stdout"
        }
      ]
    },
    {
      "cell_type": "markdown",
      "metadata": {
        "id": "eAm_ZEd0pb91"
      },
      "source": [
        "6. Faça um algoritmo que leia n valores inteiros e escreva quantos desses valores são\n",
        "negativos."
      ]
    },
    {
      "cell_type": "code",
      "metadata": {
        "id": "zwGSks5rpcwa",
        "colab": {
          "base_uri": "https://localhost:8080/"
        },
        "outputId": "79175bdb-868f-42bc-b56a-d8581a0205a3"
      },
      "source": [
        "Valores_input = input('Coloque aqui seus valores separados por espaço: ')\n",
        "Valores = Valores_input.split()\n",
        "print('Valores: ', Valores)\n",
        "\n",
        "for num in range(len(Valores)):\n",
        "    Valores[num] = int(Valores[num])\n",
        "\n",
        "Negativo = 0\n",
        "for Numero in Valores:\n",
        "  if Numero < 0:\n",
        "    Negativo += 1\n",
        "print(\"Números negativos: \", Negativo)"
      ],
      "execution_count": 29,
      "outputs": [
        {
          "output_type": "stream",
          "text": [
            "Coloque aqui seus valores separados por espaço: 1 -2 3 4 -56 -28 -29 28 42 -42\n",
            "Valores:  ['1', '-2', '3', '4', '-56', '-28', '-29', '28', '42', '-42']\n",
            "Números negativos:  5\n"
          ],
          "name": "stdout"
        }
      ]
    },
    {
      "cell_type": "markdown",
      "metadata": {
        "id": "rvfH0y_4DtRi"
      },
      "source": [
        "7. Faça um algoritmo que leia a quantidade de tinta que uma caneta, e enquanto a\n",
        "caneta tiver tinta para escrever, escreva “Enquanto tem tinta a caneta escreve...”.\n",
        "Considere que a cada comando de escrita a caneta gasta 2% da tinta que possui."
      ]
    },
    {
      "cell_type": "code",
      "metadata": {
        "id": "cU9M_bDoDuZA",
        "colab": {
          "base_uri": "https://localhost:8080/",
          "height": 1000
        },
        "outputId": "49924b30-ce79-405c-86dc-1b8e9ec4e0af"
      },
      "source": [
        "tinta = 100\n",
        "while tinta != 0:\n",
        "  comando = input(\"Quer escrever?: \")\n",
        "  if comando == \"Enquanto tem tinta a caneta escreve...\": \n",
        "    tinta -= 2;\n",
        "    print(\"\\nTinta da caneta em:\", tinta,\"%\\n\",)"
      ],
      "execution_count": 30,
      "outputs": [
        {
          "output_type": "stream",
          "text": [
            "Quer escrever?: Enquanto tem tinta a caneta escreve...\n",
            "\n",
            "Tinta da caneta em: 98 %\n",
            "\n",
            "Quer escrever?: Enquanto tem tinta a caneta escreve...\n",
            "\n",
            "Tinta da caneta em: 96 %\n",
            "\n",
            "Quer escrever?: Enquanto tem tinta a caneta escreve...\n",
            "\n",
            "Tinta da caneta em: 94 %\n",
            "\n",
            "Quer escrever?: Enquanto tem tinta a caneta escreve...\n",
            "\n",
            "Tinta da caneta em: 92 %\n",
            "\n",
            "Quer escrever?: Enquanto tem tinta a caneta escreve...\n",
            "\n",
            "Tinta da caneta em: 90 %\n",
            "\n",
            "Quer escrever?: Enquanto tem tinta a caneta escreve...\n",
            "\n",
            "Tinta da caneta em: 88 %\n",
            "\n",
            "Quer escrever?: Enquanto tem tinta a caneta escreve...\n",
            "\n",
            "Tinta da caneta em: 86 %\n",
            "\n",
            "Quer escrever?: Enquanto tem tinta a caneta escreve...\n",
            "\n",
            "Tinta da caneta em: 84 %\n",
            "\n",
            "Quer escrever?: Enquanto tem tinta a caneta escreve...\n",
            "\n",
            "Tinta da caneta em: 82 %\n",
            "\n",
            "Quer escrever?: Enquanto tem tinta a caneta escreve...\n",
            "\n",
            "Tinta da caneta em: 80 %\n",
            "\n",
            "Quer escrever?: Enquanto tem tinta a caneta escreve...\n",
            "\n",
            "Tinta da caneta em: 78 %\n",
            "\n"
          ],
          "name": "stdout"
        },
        
    {
      "cell_type": "markdown",
      "metadata": {
        "id": "qT_YCCpjJLs5"
      },
      "source": [
        "11. Faça um algoritmo que calcule e escreva a soma da seguinte série de 100 termos: 1+ 2 + 3 + 4 + ... +100"
      ]
    },
    {
      "cell_type": "code",
      "metadata": {
        "colab": {
          "base_uri": "https://localhost:8080/"
        },
        "id": "NQjCNHOFJMY3",
        "outputId": "7839a753-ae13-40f2-deee-a716461d7ecc"
      },
      "source": [
        "total = 0\n",
        "for num in range(1, 101):\n",
        "  total = total + num\n",
        "print(total)"
      ],
      "execution_count": 31,
      "outputs": [
        {
          "output_type": "stream",
          "text": [
            "5050\n"
          ],
          "name": "stdout"
        }
      ]
    }
  ]
}
