{
  "nbformat": 4,
  "nbformat_minor": 0,
  "metadata": {
    "colab": {
      "name": "Programação Orientada a Objeto - Thuany 3info1.ipynb",
      "provenance": [],
      "authorship_tag": "ABX9TyO5Jx6zgtJSW9hGB05cSylN",
      "include_colab_link": true
    },
    "kernelspec": {
      "name": "python3",
      "display_name": "Python 3"
    },
    "language_info": {
      "name": "python"
    }
  },
  "cells": [
    {
      "cell_type": "markdown",
      "metadata": {
        "id": "view-in-github",
        "colab_type": "text"
      },
      "source": [
        "<a href=\"https://colab.research.google.com/github/Thurunany/2021_EAD/blob/main/Programa%C3%A7%C3%A3o_Orientada_a_Objeto_Thuany_3info1.ipynb\" target=\"_parent\"><img src=\"https://colab.research.google.com/assets/colab-badge.svg\" alt=\"Open In Colab\"/></a>"
      ]
    },
    {
      "cell_type": "code",
      "metadata": {
        "colab": {
          "base_uri": "https://localhost:8080/"
        },
        "id": "jinq6kvzxBMi",
        "outputId": "ff8db0ce-479a-4978-8754-917134c2160d"
      },
      "source": [
        "class Usuario():\n",
        "  primeiroNome = \"\"\n",
        "  ultimoNome = \"\"\n",
        "  def hello(self):\n",
        "    return \"Olá \" + self.primeiroNome + \"!\"\n",
        "\n",
        "Jonnie = Usuario()\n",
        "\n",
        "Jonnie.primeiroNome = \"Jonnie\"\n",
        "Jonnie.ultimoNome = \"Bravo\"\n",
        "\n",
        "print (Jonnie.hello())"
      ],
      "execution_count": 7,
      "outputs": [
        {
          "output_type": "stream",
          "text": [
            "Olá Jonnie!\n"
          ],
          "name": "stdout"
        }
      ]
    }
  ]
}
