{
  "nbformat": 4,
  "nbformat_minor": 0,
  "metadata": {
    "colab": {
      "name": "Thuany 3info1  - POO 7 .ipynb",
      "provenance": [],
      "authorship_tag": "ABX9TyMAuyyLFYxr8q7HWC2iBkIK",
      "include_colab_link": true
    },
    "kernelspec": {
      "name": "python3",
      "display_name": "Python 3"
    },
    "language_info": {
      "name": "python"
    }
  },
  "cells": [
    {
      "cell_type": "markdown",
      "metadata": {
        "id": "view-in-github",
        "colab_type": "text"
      },
      "source": [
        "<a href=\"https://colab.research.google.com/github/Thurunany/2021_EAD/blob/main/Thuany_3info1_POO_7_.ipynb\" target=\"_parent\"><img src=\"https://colab.research.google.com/assets/colab-badge.svg\" alt=\"Open In Colab\"/></a>"
      ]
    },
    {
      "cell_type": "code",
      "metadata": {
        "colab": {
          "base_uri": "https://localhost:8080/"
        },
        "id": "6JMUgR1H7SDB",
        "outputId": "b024aa03-4f2a-4b2b-f624-e37e64b1f43d"
      },
      "source": [
        "class Usuario:\n",
        "  pontos = 0\n",
        "  numeroDeArtigos = 0\n",
        "\n",
        "  def setNumeroDeArtigos(self, numeroDeArtigos):\n",
        "    self.numeroDeArtigos = numeroDeArtigos\n",
        "\n",
        "  def getNumeroDeArtigos(self):\n",
        "    return self.numeroDeArtigos\n",
        "\n",
        "  def calcPontuacao(self, numeroDeArtigos):\n",
        "    return self.numeroDeArtigos\n",
        "\n",
        "\n",
        "class Autor(Usuario):\n",
        "\n",
        "  def calcPontuacao(self, numeroDeArtigos):\n",
        "    return numeroDeArtigos * 10 + 20\n",
        "\n",
        "\n",
        "class Editor(Usuario):\n",
        "\n",
        "  def calcPontuacao(self, numeroDeArtigos):\n",
        "    return numeroDeArtigos * 6 + 15\n",
        "\n",
        "\n",
        "autor1 = Autor()\n",
        "autor1.setNumeroDeArtigos(8)\n",
        "print(autor1.calcPontuacao(autor1.getNumeroDeArtigos()))\n",
        "\n",
        "editor1 = Editor()\n",
        "editor1.setNumeroDeArtigos(15)\n",
        "print(editor1.calcPontuacao(editor1.getNumeroDeArtigos()))"
      ],
      "execution_count": 2,
      "outputs": [
        {
          "output_type": "stream",
          "text": [
            "100\n",
            "105\n"
          ],
          "name": "stdout"
        }
      ]
    }
  ]
}
