{
  "nbformat": 4,
  "nbformat_minor": 0,
  "metadata": {
    "colab": {
      "name": "POO 5 - Thuany 3info1.ipynb",
      "provenance": [],
      "authorship_tag": "ABX9TyNfMLqmzaoWms20s29xdxwU",
      "include_colab_link": true
    },
    "kernelspec": {
      "name": "python3",
      "display_name": "Python 3"
    },
    "language_info": {
      "name": "python"
    }
  },
  "cells": [
    {
      "cell_type": "markdown",
      "metadata": {
        "id": "view-in-github",
        "colab_type": "text"
      },
      "source": [
        "<a href=\"https://colab.research.google.com/github/Thurunany/2021_EAD/blob/main/POO_5_Thuany_3info1.ipynb\" target=\"_parent\"><img src=\"https://colab.research.google.com/assets/colab-badge.svg\" alt=\"Open In Colab\"/></a>"
      ]
    },
    {
      "cell_type": "code",
      "metadata": {
        "colab": {
          "base_uri": "https://localhost:8080/"
        },
        "id": "IECQuKfgd4F_",
        "outputId": "27cf6be6-15c2-46e8-e26d-4e416717b117"
      },
      "source": [
        "class Usuario():\n",
        "  primeiroNome = \"\"\n",
        "  ultimoNome = \"\"\n",
        "\n",
        "  def __init__(self, primeiroNome, ultimoNome):\n",
        "    self.primeiroNome = primeiroNome\n",
        "    self.ultimoNome = ultimoNome\n",
        "    \n",
        "  def getNomeCompleto(self):\n",
        "    return self.primeiroNome + \" \" + self.ultimoNome\n",
        "usuario1 = Usuario(\"Johnny\", \"Bravo\")\n",
        "print(usuario1.getNomeCompleto())"
      ],
      "execution_count": 1,
      "outputs": [
        {
          "output_type": "stream",
          "text": [
            "Johnny Bravo\n"
          ],
          "name": "stdout"
        }
      ]
    }
  ]
}