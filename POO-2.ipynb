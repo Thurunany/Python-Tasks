{
  "nbformat": 4,
  "nbformat_minor": 0,
  "metadata": {
    "colab": {
      "name": "Programação Orientada a Objeto (POO) - Thuany 3info1.ipynb",
      "provenance": [],
      "authorship_tag": "ABX9TyOCGl2zWg2aSc+4CrPULmYq",
      "include_colab_link": true
    },
    "kernelspec": {
      "name": "python3",
      "display_name": "Python 3"
    },
    "language_info": {
      "name": "python"
    }
  },
  "cells": [
    {
      "cell_type": "markdown",
      "metadata": {
        "id": "view-in-github",
        "colab_type": "text"
      },
      "source": [
        "<a href=\"https://colab.research.google.com/github/Thurunany/2021_EAD/blob/main/Programa%C3%A7%C3%A3o_Orientada_a_Objeto_(POO)_Thuany_3info1.ipynb\" target=\"_parent\"><img src=\"https://colab.research.google.com/assets/colab-badge.svg\" alt=\"Open In Colab\"/></a>"
      ]
    },
    {
      "cell_type": "code",
      "metadata": {
        "colab": {
          "base_uri": "https://localhost:8080/"
        },
        "id": "5V616DkMsWNM",
        "outputId": "5c33fa6e-601b-4c10-e296-13c43ba8498d"
      },
      "source": [
        "class usuario:\n",
        "  nome = \"\"\n",
        "  sobrenome = \"\"\n",
        "\n",
        "  def ola(self):\n",
        "    return \"Olá\"\n",
        "\n",
        "\n",
        "usuario1 = usuario()\n",
        "usuario1.nome = \"Thuany\"\n",
        "usuario1.sobrenome = \"Muraro Soares\"\n",
        "\n",
        "ola = usuario1.ola()\n",
        "\n",
        "print(ola + \", \" + usuario1.nome + \" \" + usuario1.sobrenome)"
      ],
      "execution_count": 2,
      "outputs": [
        {
          "output_type": "stream",
          "text": [
            "Olá, Thuany Muraro Soares\n"
          ],
          "name": "stdout"
        }
      ]
    },
    {
      "cell_type": "code",
      "metadata": {
        "colab": {
          "base_uri": "https://localhost:8080/"
        },
        "id": "OX96bmwWvCzI",
        "outputId": "297f95e0-f3a2-444a-8abd-e575e14079f5"
      },
      "source": [
        "class usuario:\n",
        "  nome = \"\"\n",
        "  sobrenome = \"\"\n",
        "  \n",
        "  def ola(self):\n",
        "    return \"Olá\"\n",
        "\n",
        "\n",
        "usuario2 = usuario()\n",
        "usuario2.nome = \"Tirson\"\n",
        "usuario2.sobrenome = \"Soares\"\n",
        "\n",
        "ola = usuario2.ola()\n",
        "\n",
        "print(ola + \", \" + usuario2.nome + \" \" + usuario2.sobrenome)"
      ],
      "execution_count": 3,
      "outputs": [
        {
          "output_type": "stream",
          "text": [
            "Olá, Tirson Soares\n"
          ],
          "name": "stdout"
        }
      ]
    }
  ]
}
