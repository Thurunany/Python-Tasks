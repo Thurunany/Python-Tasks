{
  "nbformat": 4,
  "nbformat_minor": 0,
  "metadata": {
    "colab": {
      "name": "Thuany_3info1_Python2.ipynb",
      "provenance": [],
      "authorship_tag": "ABX9TyMNa4Slf6GaHbCdGLh6FcjF",
      "include_colab_link": true
    },
    "kernelspec": {
      "name": "python3",
      "display_name": "Python 3"
    },
    "language_info": {
      "name": "python"
    }
  },
  "cells": [
    {
      "cell_type": "markdown",
      "metadata": {
        "id": "view-in-github",
        "colab_type": "text"
      },
      "source": [
        "<a href=\"https://colab.research.google.com/github/Thurunany/2021_EAD/blob/main/Thuany_3info1_Python2.ipynb\" target=\"_parent\"><img src=\"https://colab.research.google.com/assets/colab-badge.svg\" alt=\"Open In Colab\"/></a>"
      ]
    },
    {
      "cell_type": "markdown",
      "metadata": {
        "id": "KyR1_Kd2O5HG"
      },
      "source": [
        "1. Faça um Programa que peça os três lados de um triângulo. O programa deverá informar se os valores podem ser\n",
        "um triângulo. Indique, caso os lados formem um triângulo, se o mesmo é: equilátero, isósceles ou escaleno."
      ]
    },
    {
      "cell_type": "code",
      "metadata": {
        "colab": {
          "base_uri": "https://localhost:8080/"
        },
        "id": "PHEl3EfXO6Bx",
        "outputId": "9097f3d9-d493-464d-adce-c55d1280f5de"
      },
      "source": [
        "lado_1 = float(input('Primeiro lado: '))\n",
        "lado_2 = float(input('Segundo  lado: '))\n",
        "lado_3 = float(input('Terceiro lado: '))\n",
        "    \n",
        "if (lado_1 + lado_2 < lado_3) or (lado_1 + lado_3 < lado_2) or (lado_2 + lado_3 < lado_1):\n",
        "  print(\"Não é um triangulo.\")\n",
        "elif (lado_1 == lado_2) and (lado_1 == lado_3) :\n",
        "  print(\"Seu triangulo é equilátero.\")\n",
        "elif (lado_1 == lado_2) or (lado_1 == lado_3) or (lado_2 == lado_3):\n",
        "  print(\"Seu triangulo é isóscele.\")\n",
        "else:\n",
        "  print(\"Seu triangulo é escaleno.\")"
      ],
      "execution_count": null,
      "outputs": [
        {
          "output_type": "stream",
          "text": [
            "Primeiro lado: 3\n",
            "Segundo  lado: 2\n",
            "Terceiro lado: 1\n",
            "Seu triangulo é escaleno.\n"
          ],
          "name": "stdout"
        }
      ]
    },
    {
      "cell_type": "markdown",
      "metadata": {
        "id": "32SmY6mcLvB3"
      },
      "source": [
        "2. Determine se um ano é bissexto. Verifique no Google como fazer isso..."
      ]
    },
    {
      "cell_type": "code",
      "metadata": {
        "colab": {
          "base_uri": "https://localhost:8080/"
        },
        "id": "emHz0NXfLvXL",
        "outputId": "a35059d7-b464-4909-adeb-46bddf8ee4ed"
      },
      "source": [
        "ano = float(input(\"Coloque aqui seu ano: \"))\n",
        "\n",
        "if ano % 4 != 0:\n",
        "  print (\"O ano não é um ano bissexto (tem 365 dias).\");\n",
        "elif ano % 100 != 0:\n",
        "  print(\"O ano é bissexto (tem 366 dias).\");\n",
        "elif ano % 400 != 0:\n",
        "  print (\"O ano não é um ano bissexto (tem 365 dias).\");\n",
        "else:\n",
        "  print(\"O ano é bissexto (tem 366 dias).\");\n"
      ],
      "execution_count": null,
      "outputs": [
        {
          "output_type": "stream",
          "text": [
            "Coloque aqui seu ano: 1600\n",
            "O ano é bissexto (tem 366 dias).\n"
          ],
          "name": "stdout"
        }
      ]
    },
    {
      "cell_type": "markdown",
      "metadata": {
        "id": "GRmRiaGUKTjg"
      },
      "source": [
        "3. João Papo-de-Pescador, homem de bem, comprou um microcomputador para controlar o rendimento diário de\n",
        "seu trabalho. Toda vez que ele traz um peso de peixes maior que o estabelecido pelo regulamento de pesca do\n",
        "estado de São Paulo (50 quilos) deve pagar uma multa de R$ 4,00 por quilo excedente. João precisa que você\n",
        "faça um programa que leia a variável peso (peso de peixes) e verifique se há excesso. Se houver, gravar na\n",
        "variável excesso e na variável multa o valor da multa que João deverá pagar. Caso contrário mostrar tais\n",
        "variáveis com o conteúdo ZERO."
      ]
    },
    {
      "cell_type": "code",
      "metadata": {
        "colab": {
          "base_uri": "https://localhost:8080/"
        },
        "id": "7-u6c7YmKYx2",
        "outputId": "02b50897-7097-4579-af8c-2a3b3ccd253a"
      },
      "source": [
        "peso = float(input(\"João, quantos kilos de peixe você tem?: \"))\n",
        "\n",
        "if peso > 50:\n",
        "  print(\"Peso excedente, sua multa será: \", (peso - 50)*4, \"R$\");\n",
        "else:\n",
        "  print(\"Peso na media permitida! Tenha um bom dia :)\")"
      ],
      "execution_count": null,
      "outputs": [
        {
          "output_type": "stream",
          "text": [
            "João, quantos kilos de peixe você tem?: 56\n",
            "Peso excedente, sua multa será:  24 R$\n"
          ],
          "name": "stdout"
        }
      ]
    },
    {
      "cell_type": "markdown",
      "metadata": {
        "id": "BiermK2HAJL9"
      },
      "source": [
        "4. Faça um Programa que leia três números e mostre o maior deles."
      ]
    },
    {
      "cell_type": "code",
      "metadata": {
        "colab": {
          "base_uri": "https://localhost:8080/"
        },
        "id": "JgCR8n0A_6p8",
        "outputId": "415b36b1-4e72-40f5-c7aa-c7feb15f90ae"
      },
      "source": [
        "num_1 = float(input(\"Qual é seu primeiro numero?: \"))\n",
        "num_2 = float(input(\"Qual é seu segundo numero?: \"))\n",
        "num_3 = float(input(\"Qual é seu terceiro numero?: \"))\n",
        "\n",
        "if num_1 > num_2 and num_1 > num_3:\n",
        "  print(\"O maior numero é o primeiro: \", num_1);\n",
        "elif num_2 > num_3:\n",
        "  print(\"O maior numero é o segundo: \", num_2);\n",
        "else: \n",
        "  print(\"O maior numero é o terceiro: \", num_3) "
      ],
      "execution_count": null,
      "outputs": [
        {
          "output_type": "stream",
          "text": [
            "Qual é seu primeiro numero?: 1\n",
            "Qual é seu segundo numero?: 1\n",
            "Qual é seu terceiro numero?: 2\n",
            "O maior numero é o terceiro:  2\n"
          ],
          "name": "stdout"
        }
      ]
    },
    {
      "cell_type": "markdown",
      "metadata": {
        "id": "v3zQp62ZANWt"
      },
      "source": [
        "5. Faça um Programa que leia três números e mostre o maior e o menor deles.\n"
      ]
    },
    {
      "cell_type": "code",
      "metadata": {
        "colab": {
          "base_uri": "https://localhost:8080/"
        },
        "id": "kZaOclqVARbc",
        "outputId": "7e8de9c0-3c2d-44f8-f2b3-f75fce1ce6be"
      },
      "source": [
        "num_1 = float(input(\"Qual é seu primeiro numero?: \"))\n",
        "num_2 = float(input(\"Qual é seu segundo numero?: \"))\n",
        "num_3 = float(input(\"Qual é seu terceiro numero?: \"))\n",
        "\n",
        "if num_1 > num_2 and num_1 > num_3:\n",
        "  print(\"O maior numero é o primeiro: \", num_1);\n",
        "elif num_2 > num_3:\n",
        "  print(\"O maior numero é o segundo: \", num_2);\n",
        "else: \n",
        "  print(\"O maior numero é o terceiro: \", num_3);\n",
        "\n",
        "if num_1 < num_2 and num_1 < num_3:\n",
        "  print(\"O menor numero é o primeiro: \", num_1);\n",
        "elif num_2 < num_3:\n",
        "  print(\"O menor numero é o segundo: \", num_2);\n",
        "else: \n",
        "  print(\"O menor numero é o terceiro: \", num_3); "
      ],
      "execution_count": null,
      "outputs": [
        {
          "output_type": "stream",
          "text": [
            "Qual é seu primeiro numero?: 25\n",
            "Qual é seu segundo numero?: 24\n",
            "Qual é seu terceiro numero?: 27\n",
            "O maior numero é o terceiro:  27\n",
            "O menor numero é o segundo:  24\n"
          ],
          "name": "stdout"
        }
      ]
    }
  ]
}